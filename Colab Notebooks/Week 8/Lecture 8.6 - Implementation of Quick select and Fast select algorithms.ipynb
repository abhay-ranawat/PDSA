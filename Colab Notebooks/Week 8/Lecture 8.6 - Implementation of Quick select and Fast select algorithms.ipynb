{
  "cells": [
    {
      "cell_type": "code",
      "execution_count": 1,
      "metadata": {
        "id": "iQ3Z6nMMLD25"
      },
      "outputs": [],
      "source": [
        "def quickselect(L,l,r,k): # k-th largest in L[l:r]\n",
        "  if (k < 1) or (k > r-l):\n",
        "    return(None)\n",
        "\n",
        "  (pivot,lower,upper) = (L[l],l+1,l+1)\n",
        "  for i in range(l+1,r):\n",
        "    if L[i] > pivot:  # Extend upper segment\n",
        "      upper = upper + 1\n",
        "    else: # Exchange L[i] with start of upper segment\n",
        "      (L[i], L[lower]) = (L[lower], L[i])\n",
        "      (lower,upper) = (lower+1,upper+1)\n",
        "  (L[l],L[lower-1]) = (L[lower-1],L[l]) # Move pivot\n",
        "  lower = lower - 1\n",
        "\n",
        "  # Recursive calls\n",
        "  lowerlen = lower - l\n",
        "  if k <= lowerlen:\n",
        "    return(quickselect(L,l,lower,k))\n",
        "  elif k == (lowerlen + 1):\n",
        "    return(L[lower])\n",
        "  else:\n",
        "    return(quickselect(L,lower+1,r,k-(lowerlen+1)))\n"
      ]
    },
    {
      "cell_type": "code",
      "execution_count": 2,
      "metadata": {
        "colab": {
          "base_uri": "https://localhost:8080/"
        },
        "id": "stWvlM_b1egl",
        "outputId": "bf3b9736-3a3b-4d56-f110-bd8a672e55be"
      },
      "outputs": [
        {
          "name": "stdout",
          "output_type": "stream",
          "text": [
            "[343, 304, 877, 130, 127, 866, 274, 436, 465, 623, 167, 68, 208, 733, 515, 758, 227, 883, 68, 769, 613, 345, 285, 594, 431, 783, 867, 950, 166, 616, 530, 179, 731, 317, 256, 90, 628, 465, 954, 972, 562, 671, 161, 555, 200, 937, 441, 623, 471, 629, 739, 994, 634, 702, 507, 406, 797, 968, 737, 630, 952, 948, 579, 850, 143, 437, 487, 206, 170, 288, 73, 651, 269, 750, 69, 844, 650, 366, 309, 862, 446, 168, 505, 16, 834, 9, 295, 892, 350, 793, 73, 394, 158, 422, 469, 844, 599, 199, 974, 113, 58, 460, 330, 119, 293, 611, 460, 638, 335, 290, 312, 76, 269, 282, 148, 834, 776, 624, 845, 301, 512, 509, 860, 380, 819, 319, 279, 795, 455, 805, 120, 430, 828, 948, 195, 532, 974, 989, 141, 113, 756, 667, 251, 938, 365, 250, 387, 698, 544, 888, 987, 223, 31, 760, 607, 985, 334, 968, 882, 331, 588, 790, 937, 895, 821, 487, 943, 535, 247, 620, 494, 825, 895, 893, 836, 28, 996, 695, 268, 643, 333, 91, 470, 550, 61, 740, 401, 487, 421, 29, 624, 546, 869, 914, 769, 787, 939, 992, 347, 655]\n"
          ]
        }
      ],
      "source": [
        "from random import *\n",
        "A = [ randrange(1000) for i in range(200) ]\n",
        "print(A)"
      ]
    },
    {
      "cell_type": "code",
      "execution_count": 3,
      "metadata": {
        "colab": {
          "base_uri": "https://localhost:8080/"
        },
        "id": "jFsIYmMN1jqy",
        "outputId": "35bc2314-1fb0-4505-a245-88a131c40cd7"
      },
      "outputs": [
        {
          "name": "stdout",
          "output_type": "stream",
          "text": [
            "None\n",
            "9\n",
            "16\n",
            "28\n",
            "29\n",
            "31\n",
            "58\n",
            "61\n",
            "68\n",
            "68\n",
            "69\n",
            "73\n",
            "73\n",
            "76\n",
            "90\n",
            "91\n",
            "113\n",
            "113\n",
            "119\n",
            "120\n",
            "127\n",
            "130\n",
            "141\n",
            "143\n",
            "148\n",
            "158\n",
            "161\n",
            "166\n",
            "167\n",
            "168\n",
            "170\n",
            "179\n",
            "195\n",
            "199\n",
            "200\n",
            "206\n",
            "208\n",
            "223\n",
            "227\n",
            "247\n",
            "250\n",
            "251\n",
            "256\n",
            "268\n",
            "269\n",
            "269\n",
            "274\n",
            "279\n",
            "282\n",
            "285\n",
            "288\n",
            "290\n",
            "293\n",
            "295\n",
            "301\n",
            "304\n",
            "309\n",
            "312\n",
            "317\n",
            "319\n",
            "330\n",
            "331\n",
            "333\n",
            "334\n",
            "335\n",
            "343\n",
            "345\n",
            "347\n",
            "350\n",
            "365\n",
            "366\n",
            "380\n",
            "387\n",
            "394\n",
            "401\n",
            "406\n",
            "421\n",
            "422\n",
            "430\n",
            "431\n",
            "436\n",
            "437\n",
            "441\n",
            "446\n",
            "455\n",
            "460\n",
            "460\n",
            "465\n",
            "465\n",
            "469\n",
            "470\n",
            "471\n",
            "487\n",
            "487\n",
            "487\n",
            "494\n",
            "505\n",
            "507\n",
            "509\n",
            "512\n",
            "515\n",
            "530\n",
            "532\n",
            "535\n",
            "544\n",
            "546\n",
            "550\n",
            "555\n",
            "562\n",
            "579\n",
            "588\n",
            "594\n",
            "599\n",
            "607\n",
            "611\n",
            "613\n",
            "616\n",
            "620\n",
            "623\n",
            "623\n",
            "624\n",
            "624\n",
            "628\n",
            "629\n",
            "630\n",
            "634\n",
            "638\n",
            "643\n",
            "650\n",
            "651\n",
            "655\n",
            "667\n",
            "671\n",
            "695\n",
            "698\n",
            "702\n",
            "731\n",
            "733\n",
            "737\n",
            "739\n",
            "740\n",
            "750\n",
            "756\n",
            "758\n",
            "760\n",
            "769\n",
            "769\n",
            "776\n",
            "783\n",
            "787\n",
            "790\n",
            "793\n",
            "795\n",
            "797\n",
            "805\n",
            "819\n",
            "821\n",
            "825\n",
            "828\n",
            "834\n",
            "834\n",
            "836\n",
            "844\n",
            "844\n",
            "845\n",
            "850\n",
            "860\n",
            "862\n",
            "866\n",
            "867\n",
            "869\n",
            "877\n",
            "882\n",
            "883\n",
            "888\n",
            "892\n",
            "893\n",
            "895\n",
            "895\n",
            "914\n",
            "937\n",
            "937\n",
            "938\n",
            "939\n",
            "943\n",
            "948\n",
            "948\n",
            "950\n",
            "952\n",
            "954\n",
            "968\n",
            "968\n",
            "972\n",
            "974\n",
            "974\n",
            "985\n",
            "987\n",
            "989\n",
            "992\n",
            "994\n",
            "996\n",
            "None\n"
          ]
        }
      ],
      "source": [
        "for i in range(0,len(A)+2):\n",
        "  print(quickselect(A,0,len(A),i))"
      ]
    },
    {
      "cell_type": "code",
      "execution_count": 4,
      "metadata": {
        "id": "md2SMMbuDldB"
      },
      "outputs": [],
      "source": [
        "def MoM(L): # Median of medians\n",
        "\n",
        "  if len(L) <= 5:\n",
        "    L.sort()\n",
        "    return(L[len(L)//2])\n",
        "\n",
        "  # Construct list of block medians\n",
        "  M = []\n",
        "\n",
        "  for i in range(0,len(L),5):\n",
        "    X = L[i:i+5]\n",
        "    X.sort()\n",
        "    M.append(X[len(X)//2])\n",
        "\n",
        "  return(MoM(M))"
      ]
    },
    {
      "cell_type": "code",
      "execution_count": 5,
      "metadata": {
        "colab": {
          "base_uri": "https://localhost:8080/"
        },
        "id": "2HiVILnQcuFu",
        "outputId": "8a91a165-487e-4991-c87c-6056e412ab9e"
      },
      "outputs": [
        {
          "name": "stdout",
          "output_type": "stream",
          "text": [
            "[574, 290, 856, 23, 605, 503, 855, 518, 538, 718, 906, 69, 391, 339, 820, 621, 367, 649, 455, 255, 75, 645, 617, 403, 367, 602, 307, 61, 815, 844, 641, 701, 591, 976, 589, 56, 322, 14, 821, 436, 677, 556, 112, 340, 591, 738, 337, 813, 277, 844, 511, 890, 185, 421, 482, 449, 523, 392, 113, 19, 294, 968, 120, 587, 660, 810, 90, 828, 817, 66, 636, 907, 9, 892, 699, 43, 577, 183, 970, 721, 753, 631, 120, 520, 157, 69, 498, 989, 303, 57, 769, 460, 511, 523, 110, 720, 821, 7, 778, 750, 750, 448, 241, 613, 370, 311, 359, 379, 594, 275, 361, 885, 45, 953, 9, 819, 888, 697, 452, 555, 408, 494, 300, 245, 647, 704, 940, 772, 455, 709, 652, 810, 595, 483, 640, 51, 206, 524, 165, 391, 514, 250, 187, 771, 129, 946, 727, 844, 584, 432, 135, 417, 141, 484, 512, 984, 259, 88, 571, 980, 394, 519, 957, 232, 517, 993, 532, 659, 406, 125, 398, 396, 989, 855, 201, 71, 76, 482, 579, 439, 762, 791, 339, 235, 14, 857, 614, 690, 571, 417, 297, 86, 847, 205, 923, 682, 635, 933, 736, 916]\n"
          ]
        }
      ],
      "source": [
        "from random import *\n",
        "A = [ randrange(1000) for i in range(200) ]\n",
        "print(A)"
      ]
    },
    {
      "cell_type": "code",
      "execution_count": 6,
      "metadata": {
        "colab": {
          "base_uri": "https://localhost:8080/"
        },
        "id": "Y1EZusydDnG4",
        "outputId": "59a4d1e0-c3de-491c-97b5-e56fee40edd9"
      },
      "outputs": [
        {
          "data": {
            "text/plain": [
              "(359, 519, 690, 520)"
            ]
          },
          "execution_count": 6,
          "metadata": {},
          "output_type": "execute_result"
        }
      ],
      "source": [
        "B=sorted(A)\n",
        "(B[(3*len(B))//10], B[len(B)//2], B[(7*len(B))//10], MoM(A))"
      ]
    },
    {
      "cell_type": "code",
      "execution_count": 7,
      "metadata": {
        "id": "MrdsLMPnJPaZ"
      },
      "outputs": [],
      "source": [
        "import sys\n",
        "sys.setrecursionlimit(2**31-1)"
      ]
    },
    {
      "cell_type": "code",
      "execution_count": 8,
      "metadata": {
        "id": "nCM8LjFoJePe"
      },
      "outputs": [],
      "source": [
        "import time\n",
        "\n",
        "class TimerError(Exception):\n",
        "    \"\"\"A custom exception used to report errors in use of Timer class\"\"\"\n",
        "\n",
        "class Timer:\n",
        "    def __init__(self):\n",
        "        self._start_time = None\n",
        "        self._elapsed_time = None\n",
        "\n",
        "    def start(self):\n",
        "        \"\"\"Start a new timer\"\"\"\n",
        "        if self._start_time is not None:\n",
        "            raise TimerError(\"Timer is running. Use .stop()\")\n",
        "        self._start_time = time.perf_counter()\n",
        "\n",
        "    def stop(self):\n",
        "        \"\"\"Save the elapsed time and re-initialize timer\"\"\"\n",
        "        if self._start_time is None:\n",
        "           raise TimerError(\"Timer is not running. Use .start()\")\n",
        "        self._elapsed_time = time.perf_counter() - self._start_time\n",
        "        self._start_time = None\n",
        "\n",
        "    def elapsed(self):\n",
        "        \"\"\"Report elapsed time\"\"\"\n",
        "        if self._elapsed_time is None:\n",
        "           raise TimerError(\"Timer has not been run yet. Use .start()\")\n",
        "        return(self._elapsed_time)\n",
        "\n",
        "    def __str__(self):\n",
        "        \"\"\"print() prints elapsed time\"\"\"\n",
        "        return(str(self._elapsed_time))"
      ]
    },
    {
      "cell_type": "code",
      "execution_count": 9,
      "metadata": {
        "colab": {
          "base_uri": "https://localhost:8080/"
        },
        "id": "yjlUIlK6JfuX",
        "outputId": "2587b111-1f5a-4920-bb32-b69d17edc2ef"
      },
      "outputs": [
        {
          "name": "stdout",
          "output_type": "stream",
          "text": [
            "9999\n",
            "4.489768745996116\n"
          ]
        }
      ],
      "source": [
        "t = Timer()\n",
        "t.start()\n",
        "A = [i for i in range(10000)]\n",
        "print(quickselect(A,0,len(A),10000))\n",
        "t.stop()\n",
        "print(t)"
      ]
    },
    {
      "cell_type": "code",
      "execution_count": 10,
      "metadata": {
        "id": "D6TWqc96KAwC"
      },
      "outputs": [],
      "source": [
        "def fastselect(L,l,r,k): # k-th largest in L[l:r]\n",
        "  if (k < 1) or (k > r-l):\n",
        "    return(None)\n",
        "\n",
        "  # Find MoM pivot and move to L[l]\n",
        "  pivot = MoM(L[l:r])\n",
        "  pivotpos = min([i for i in range(l,r) if L[i] == pivot])\n",
        "  (L[l],L[pivotpos]) = (L[pivotpos],L[l])\n",
        "\n",
        "  (pivot,lower,upper) = (L[l],l+1,l+1)\n",
        "  for i in range(l+1,r):\n",
        "    if L[i] > pivot:  # Extend upper segment\n",
        "      upper = upper + 1\n",
        "    else: # Exchange L[i] with start of upper segment\n",
        "      (L[i], L[lower]) = (L[lower], L[i])\n",
        "      (lower,upper) = (lower+1,upper+1)\n",
        "  (L[l],L[lower-1]) = (L[lower-1],L[l]) # Move pivot\n",
        "  lower = lower - 1\n",
        "  \n",
        "  # Recursive calls\n",
        "  lowerlen = lower - l\n",
        "  if k <= lowerlen:\n",
        "    return(fastselect(L,l,lower,k))\n",
        "  elif k == (lowerlen + 1):\n",
        "    return(L[lower])\n",
        "  else:\n",
        "    return(fastselect(L,lower+1,r,k-(lowerlen+1)))"
      ]
    },
    {
      "cell_type": "code",
      "execution_count": 11,
      "metadata": {
        "colab": {
          "base_uri": "https://localhost:8080/"
        },
        "id": "g1nGEUMxKdIN",
        "outputId": "15c35176-f154-4a7b-e1d3-30269131b458"
      },
      "outputs": [
        {
          "name": "stdout",
          "output_type": "stream",
          "text": [
            "9999\n",
            "0.005356573004974052\n"
          ]
        }
      ],
      "source": [
        "t = Timer()\n",
        "t.start()\n",
        "A = [i for i in range(10000)]\n",
        "print(fastselect(A,0,len(A),10000))\n",
        "t.stop()\n",
        "print(t)"
      ]
    }
  ],
  "metadata": {
    "colab": {
      "collapsed_sections": [],
      "name": "Week8.ipynb",
      "provenance": []
    },
    "kernelspec": {
      "display_name": "Python 3",
      "name": "python3"
    },
    "language_info": {
      "codemirror_mode": {
        "name": "ipython",
        "version": 3
      },
      "file_extension": ".py",
      "mimetype": "text/x-python",
      "name": "python",
      "nbconvert_exporter": "python",
      "pygments_lexer": "ipython3",
      "version": "3.8.6"
    }
  },
  "nbformat": 4,
  "nbformat_minor": 0
}
