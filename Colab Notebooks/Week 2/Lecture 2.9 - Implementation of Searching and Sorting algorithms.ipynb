{
  "cells": [
    {
      "cell_type": "markdown",
      "metadata": {
        "id": "bvzwd5SvsZ9M"
      },
      "source": [
        "# Searching and Sorting"
      ]
    },
    {
      "cell_type": "markdown",
      "metadata": {
        "id": "HafrRO7osZ9N"
      },
      "source": [
        "### Setup\n",
        "- Set up `Timer` class to time executions"
      ]
    },
    {
      "cell_type": "code",
      "execution_count": 6,
      "metadata": {
        "id": "FX-LCujtXSyH"
      },
      "outputs": [],
      "source": [
        "import time\n",
        "\n",
        "class TimerError(Exception):\n",
        "    \"\"\"A custom exception used to report errors in use of Timer class\"\"\"\n",
        "\n",
        "class Timer:\n",
        "    def __init__(self):\n",
        "        self._start_time = None\n",
        "        self._elapsed_time = None\n",
        "\n",
        "    def start(self):\n",
        "        \"\"\"Start a new timer\"\"\"\n",
        "        if self._start_time is not None:\n",
        "            raise TimerError(\"Timer is running. Use .stop()\")\n",
        "        self._start_time = time.perf_counter()\n",
        "\n",
        "    def stop(self):\n",
        "        \"\"\"Save the elapsed time and re-initialize timer\"\"\"\n",
        "        if self._start_time is None:\n",
        "           raise TimerError(\"Timer is not running. Use .start()\")\n",
        "        self._elapsed_time = time.perf_counter() - self._start_time\n",
        "        self._start_time = None\n",
        "\n",
        "    def elapsed(self):\n",
        "        \"\"\"Report elapsed time\"\"\"\n",
        "        if self._elapsed_time is None:\n",
        "           raise TimerError(\"Timer has not been run yet. Use .start()\")\n",
        "        return(self._elapsed_time)\n",
        "\n",
        "    def __str__(self):\n",
        "        \"\"\"print() prints elapsed time\"\"\"\n",
        "        return(str(self._elapsed_time))"
      ]
    },
    {
      "cell_type": "markdown",
      "metadata": {
        "id": "HREqZFVosZ9R"
      },
      "source": [
        "### Naive search by scanning the list"
      ]
    },
    {
      "cell_type": "code",
      "execution_count": 3,
      "metadata": {
        "id": "Nh0Rt2ztm4nL"
      },
      "outputs": [],
      "source": [
        "def naivesearch(v,l):\n",
        "  for x in l:\n",
        "    if v == x:\n",
        "      return(True)\n",
        "  return(False)"
      ]
    },
    {
      "cell_type": "markdown",
      "metadata": {
        "id": "_I_Kwq5RsZ9S"
      },
      "source": [
        "### Binary search"
      ]
    },
    {
      "cell_type": "code",
      "execution_count": null,
      "metadata": {
        "id": "9tDWAhyUnA7K"
      },
      "outputs": [],
      "source": [
        "def binarysearch(v,l):\n",
        "  if l == []:\n",
        "    return(False)\n",
        "\n",
        "  m = len(l)//2\n",
        "\n",
        "  if v == l[m]:\n",
        "    return(True)\n",
        "\n",
        "  if v < l[m]:\n",
        "    return(binarysearch(v,l[:m]))\n",
        "  else:\n",
        "    return(binarysearch(v,l[m+1:]))"
      ]
    },
    {
      "cell_type": "markdown",
      "metadata": {
        "id": "4Psd7PytsZ9U"
      },
      "source": [
        "### Checking correctness on input `[0,2,...,50]`"
      ]
    },
    {
      "cell_type": "code",
      "execution_count": 4,
      "metadata": {
        "colab": {
          "base_uri": "https://localhost:8080/"
        },
        "id": "Z20emTJ9sZ9V",
        "outputId": "d702a162-da7f-4b95-ccac-4e695d0fd668"
      },
      "outputs": [
        {
          "name": "stdout",
          "output_type": "stream",
          "text": [
            "(0, True),(1, False),(2, True),(3, False),(4, True),(5, False),(6, True),(7, False),(8, True),(9, False),(10, True),(11, False),(12, True),(13, False),(14, True),(15, False),(16, True),(17, False),(18, True),(19, False),(20, True),(21, False),(22, True),(23, False),(24, True),(25, False),(26, True),(27, False),(28, True),(29, False),(30, True),(31, False),(32, True),(33, False),(34, True),(35, False),(36, True),(37, False),(38, True),(39, False),(40, True),(41, False),(42, True),(43, False),(44, True),(45, False),(46, True),(47, False),(48, True),(49, False),(50, True),\n"
          ]
        }
      ],
      "source": [
        "l = list(range(0,51,2))\n",
        "\n",
        "for i in range(51):\n",
        "  print((i,naivesearch(i,l)),end=\",\")\n",
        "print()\n",
        "\n",
        "# for i in range(51):\n",
        "#   print((i,binarysearch(i,l)),end=\",\")\n",
        "# print()"
      ]
    },
    {
      "cell_type": "markdown",
      "metadata": {
        "id": "FcsOBFTGsZ9V"
      },
      "source": [
        "### Performance comparison across $10^4$ worst case searches in a list of size $10^5$\n",
        "- Looking for odd numbers in a list of even numbers"
      ]
    },
    {
      "cell_type": "code",
      "execution_count": 7,
      "metadata": {
        "colab": {
          "base_uri": "https://localhost:8080/"
        },
        "id": "BlsFK6JdoC6L",
        "outputId": "ccd0132d-dc4a-41b3-c29a-4750e6673146"
      },
      "outputs": [
        {
          "name": "stdout",
          "output_type": "stream",
          "text": [
            "\n",
            "Naive search 6.127300476000528\n"
          ]
        }
      ],
      "source": [
        "l = list(range(0,100000,2))\n",
        "t = Timer()\n",
        "t.start()\n",
        "for i in range(3001,13000,2):\n",
        "  v = naivesearch(i,l)\n",
        "t.stop()\n",
        "print()\n",
        "print(\"Naive search\", t)\n",
        "# t.start()\n",
        "# for i in range(3001,13000,2):\n",
        "#   v = binarysearch(i,l)\n",
        "# t.stop()\n",
        "# print()\n",
        "# print(\"Binary search\", t)"
      ]
    },
    {
      "cell_type": "markdown",
      "metadata": {
        "id": "IrkFYqxMsZ9W"
      },
      "source": [
        "### Selection sort"
      ]
    },
    {
      "cell_type": "code",
      "execution_count": 8,
      "metadata": {
        "id": "Xv8jrh12ouDC"
      },
      "outputs": [],
      "source": [
        "def SelectionSort(L):\n",
        "   n = len(L)\n",
        "   if n < 1:\n",
        "      return(L)\n",
        "   for i in range(n):\n",
        "      # Assume L[:i] is sorted\n",
        "      mpos = i  \n",
        "      # mpos is position of minimum in L[i:]\n",
        "      for j in range(i+1,n):\n",
        "        if L[j] < L[mpos]:\n",
        "           mpos = j\n",
        "      # L[mpos] is the smallest value in L[i:]\n",
        "      (L[i],L[mpos]) = (L[mpos],L[i])\n",
        "      # Now L[:i+1] is sorted\n",
        "   return(L)"
      ]
    },
    {
      "cell_type": "markdown",
      "metadata": {
        "id": "FAUrIDbtsZ9X"
      },
      "source": [
        "### Selection sort performance is more or less the same for all inputs"
      ]
    },
    {
      "cell_type": "code",
      "execution_count": 9,
      "metadata": {
        "colab": {
          "base_uri": "https://localhost:8080/"
        },
        "id": "FlOt-RwxoUvX",
        "outputId": "c87e7478-4bd7-4e0a-ef90-58f28ba4d328"
      },
      "outputs": [
        {
          "name": "stdout",
          "output_type": "stream",
          "text": [
            "random 0.9375110220062197\n",
            "ascending 0.9636831019961392\n",
            "descending 0.9535119809952448\n"
          ]
        }
      ],
      "source": [
        "import random\n",
        "random.seed(2021)\n",
        "inputlists = {}\n",
        "inputlists[\"random\"] = [random.randrange(100000) for i in range(5000)]\n",
        "inputlists[\"ascending\"] = [i for i in range(5000)]\n",
        "inputlists[\"descending\"] = [i for i in range (4999,-1,-1)]\n",
        "t = Timer()\n",
        "for k in inputlists.keys():\n",
        "    tmplist = inputlists[k][:]\n",
        "    t.start()\n",
        "    SelectionSort(tmplist)\n",
        "    t.stop()\n",
        "    print(k,t)"
      ]
    },
    {
      "cell_type": "markdown",
      "metadata": {
        "id": "LZYEt3CMsZ9Y"
      },
      "source": [
        "### Insertion sort, iterative"
      ]
    },
    {
      "cell_type": "code",
      "execution_count": null,
      "metadata": {
        "id": "7IU966hV-9Pn"
      },
      "outputs": [],
      "source": [
        "def InsertionSort(L):\n",
        "   n = len(L)\n",
        "   if n < 1:\n",
        "      return(L)\n",
        "   for i in range(n):\n",
        "      # Assume L[:i] is sorted\n",
        "      # Move L[i] to correct position in L[:i]\n",
        "      j = i\n",
        "      while(j > 0 and L[j] < L[j-1]):\n",
        "        (L[j],L[j-1]) = (L[j-1],L[j])\n",
        "        j = j-1\n",
        "      # Now L[:i+1] is sorted\n",
        "   return(L)"
      ]
    },
    {
      "cell_type": "markdown",
      "metadata": {
        "id": "BYq-qcbTsZ9Y"
      },
      "source": [
        "### Insertion sort preformance\n",
        "- On already sorted input, performance is very good\n",
        "- On reverse sorted input, performance is worse than selection sort"
      ]
    },
    {
      "cell_type": "code",
      "execution_count": null,
      "metadata": {
        "colab": {
          "base_uri": "https://localhost:8080/"
        },
        "id": "P59KcaKM_CjK",
        "outputId": "91909526-3365-41c8-e074-9d036fff3365"
      },
      "outputs": [],
      "source": [
        "import random\n",
        "random.seed(2021)\n",
        "inputlists = {}\n",
        "inputlists[\"random\"] = [random.randrange(100000) for i in range(5000)]\n",
        "inputlists[\"ascending\"] = [i for i in range(5000)]\n",
        "inputlists[\"descending\"] = [i for i in range (4999,-1,-1)]\n",
        "t = Timer()\n",
        "for k in inputlists.keys():\n",
        "    tmplist = inputlists[k][:]\n",
        "    t.start()\n",
        "    InsertionSort(tmplist)\n",
        "    t.stop()\n",
        "    print(k,t)"
      ]
    },
    {
      "cell_type": "markdown",
      "metadata": {
        "id": "YgUP1eBLsZ9Z"
      },
      "source": [
        "### Insertion sort, recursive"
      ]
    },
    {
      "cell_type": "code",
      "execution_count": null,
      "metadata": {
        "id": "cknMO2qA_ZFX"
      },
      "outputs": [],
      "source": [
        "def Insert(L,v):\n",
        "   n = len(L)\n",
        "   if n == 0:\n",
        "     return([v])\n",
        "   if v >= L[-1]:\n",
        "     return(L+[v])\n",
        "   else:\n",
        "     return(Insert(L[:-1],v)+L[-1:])\n",
        "\n",
        "def ISort(L):\n",
        "   n = len(L)\n",
        "   if n < 1:\n",
        "      return(L)\n",
        "   L = Insert(ISort(L[:-1]),L[-1])\n",
        "   return(L)"
      ]
    },
    {
      "cell_type": "code",
      "execution_count": null,
      "metadata": {
        "colab": {
          "base_uri": "https://localhost:8080/",
          "height": 387
        },
        "id": "2lCSbgVB3drw",
        "outputId": "846e3574-72c4-47f1-e352-95be163906ea"
      },
      "outputs": [],
      "source": [
        "import random\n",
        "random.seed(2021)\n",
        "inputlists = {}\n",
        "inputlists[\"random\"] = [random.randrange(100000) for i in range(5000)]\n",
        "inputlists[\"ascending\"] = [i for i in range(5000)]\n",
        "inputlists[\"descending\"] = [i for i in range (4999,-1,-1)]\n",
        "t = Timer()\n",
        "for k in inputlists.keys():\n",
        "    tmplist = inputlists[k][:]\n",
        "    t.start()\n",
        "    ISort(tmplist)\n",
        "    t.stop()\n",
        "    print(k,t)"
      ]
    },
    {
      "cell_type": "markdown",
      "metadata": {
        "id": "UaZ2ymUs3Ioq"
      },
      "source": [
        "### Setup\n",
        "- Set recursion limit to maxint,  $2^{31}-1$\n",
        "    - This is the highest value Python allows\n"
      ]
    },
    {
      "cell_type": "code",
      "execution_count": null,
      "metadata": {
        "id": "W7aahHWJ3Col"
      },
      "outputs": [],
      "source": [
        "import sys\n",
        "sys.setrecursionlimit(2**31-1)"
      ]
    },
    {
      "cell_type": "markdown",
      "metadata": {
        "id": "mOV6kW0ZsZ9a"
      },
      "source": [
        "### Recursive insertion sort is slower than iterative\n",
        "- Input of 2000 (40%) takes more time than 5000 for iterative\n",
        "  - Overhead of recursive calls\n",
        "- Performance pattern between unsorted, sorted and random is similar "
      ]
    },
    {
      "cell_type": "code",
      "execution_count": null,
      "metadata": {
        "colab": {
          "base_uri": "https://localhost:8080/"
        },
        "id": "jtSsgZhV_ke1",
        "outputId": "596a70fa-4278-4471-dba9-378691aba72e"
      },
      "outputs": [],
      "source": [
        "import random\n",
        "random.seed(2021)\n",
        "\n",
        "inputlists = {}\n",
        "inputlists[\"random\"] = [random.randrange(100000) for i in range(2000)]\n",
        "inputlists[\"ascending\"] = [i for i in range(2000)]\n",
        "inputlists[\"descending\"] = [i for i in range (1999,-1,-1)]\n",
        "t = Timer()\n",
        "for k in inputlists.keys():\n",
        "    tmplist = inputlists[k][:]\n",
        "    t.start()\n",
        "    ISort(tmplist)\n",
        "    t.stop()\n",
        "    print(k,t)"
      ]
    },
    {
      "cell_type": "markdown",
      "metadata": {
        "id": "ugj-kRXpsZ9b"
      },
      "source": [
        "### Merge sort"
      ]
    },
    {
      "cell_type": "code",
      "execution_count": null,
      "metadata": {
        "id": "vjSICLy_s0-K"
      },
      "outputs": [],
      "source": [
        "def merge(A,B):\n",
        "  (m,n) = (len(A),len(B))\n",
        "  (C,i,j,k) = ([],0,0,0)\n",
        "  while k < m+n:\n",
        "    if i == m:\n",
        "      C.extend(B[j:])\n",
        "      k = k + (n-j)\n",
        "    elif j == n:\n",
        "      C.extend(A[i:])\n",
        "      k = k + (n-i)\n",
        "    elif A[i] < B[j]:\n",
        "      C.append(A[i])\n",
        "      (i,k) = (i+1,k+1)\n",
        "    else:\n",
        "      C.append(B[j])\n",
        "      (j,k) = (j+1,k+1)\n",
        "  return(C)"
      ]
    },
    {
      "cell_type": "code",
      "execution_count": null,
      "metadata": {
        "id": "YAAEaiRxs6Yu"
      },
      "outputs": [],
      "source": [
        "def mergesort(A):\n",
        "  n = len(A)\n",
        "\n",
        "  if n <= 1:\n",
        "     return(A)\n",
        "  \n",
        "  L = mergesort(A[:n//2])\n",
        "  R = mergesort(A[n//2:])\n",
        "\n",
        "  B = merge(L,R)\n",
        "\n",
        "  return(B)"
      ]
    },
    {
      "cell_type": "markdown",
      "metadata": {
        "id": "9gzgSw_DsZ9b"
      },
      "source": [
        "### A simple input to check correctness"
      ]
    },
    {
      "cell_type": "code",
      "execution_count": null,
      "metadata": {
        "colab": {
          "base_uri": "https://localhost:8080/"
        },
        "id": "4UPyJKpTtOmN",
        "outputId": "f2917286-7f3f-4495-b19f-2a9b1e56d9d2"
      },
      "outputs": [],
      "source": [
        "mergesort([i for i in range(0,1000,2)]+[j for j in range (1,1000,2)])"
      ]
    },
    {
      "cell_type": "markdown",
      "metadata": {
        "id": "O8dFFhg3sZ9c"
      },
      "source": [
        "### Perfomance on large inputs, $10^6$, random and sorted"
      ]
    },
    {
      "cell_type": "code",
      "execution_count": null,
      "metadata": {
        "colab": {
          "base_uri": "https://localhost:8080/"
        },
        "id": "WI6uw7A2sZ9c",
        "outputId": "065256eb-1f14-491e-f6f5-b7ba576ebded"
      },
      "outputs": [],
      "source": [
        "import random\n",
        "random.seed(2021)\n",
        "inputlists = {}\n",
        "inputlists[\"random\"] = [random.randrange(100000000) for i in range(1000000)]\n",
        "inputlists[\"ascending\"] = [i for i in range(1000000)]\n",
        "inputlists[\"descending\"] = [i for i in range (999999,-1,-1)]\n",
        "t = Timer()\n",
        "for k in inputlists.keys():\n",
        "    tmplist = inputlists[k][:]\n",
        "    t.start()\n",
        "    mergesort(tmplist)\n",
        "    t.stop()\n",
        "    print(k,t)"
      ]
    }
  ],
  "metadata": {
    "colab": {
      "collapsed_sections": [],
      "name": "Week2-Sorting.ipynb",
      "provenance": []
    },
    "kernelspec": {
      "display_name": "Python 3",
      "language": "python",
      "name": "python3"
    },
    "language_info": {
      "codemirror_mode": {
        "name": "ipython",
        "version": 3
      },
      "file_extension": ".py",
      "mimetype": "text/x-python",
      "name": "python",
      "nbconvert_exporter": "python",
      "pygments_lexer": "ipython3",
      "version": "3.8.6"
    }
  },
  "nbformat": 4,
  "nbformat_minor": 0
}
