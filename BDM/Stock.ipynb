{
 "cells": [
  {
   "cell_type": "code",
   "execution_count": 170,
   "metadata": {},
   "outputs": [],
   "source": [
    "from random import *\n",
    "import csv\n",
    "\n",
    "data = []\n",
    "rn = 0\n"
   ]
  },
  {
   "cell_type": "code",
   "execution_count": 168,
   "metadata": {},
   "outputs": [],
   "source": [
    "def open_file(stock_daily):\n",
    "    # open the file in the write mode\n",
    "    f = open('/workspaces/PDSA/data.csv', 'a')\n",
    "\n",
    "    # create the csv writer\n",
    "    writer = csv.writer(f)\n",
    "    writer.writerow(stock_daily)\n"
   ]
  },
  {
   "cell_type": "code",
   "execution_count": 171,
   "metadata": {},
   "outputs": [],
   "source": [
    "with open('/workspaces/PDSA/Three.csv') as f:\n",
    "    reader = csv.reader(f)\n",
    "    for row in reader:\n",
    "        data.append(list(map(int, row)))"
   ]
  },
  {
   "cell_type": "code",
   "execution_count": 154,
   "metadata": {},
   "outputs": [],
   "source": [
    "def stock(s, row):\n",
    "    og_stock = s\n",
    "    stk = []\n",
    "    avg = sum(row)/len(row)\n",
    "    avg = int(avg) if avg else 1\n",
    "    stk.append(s)\n",
    "    refil = [0,7,14,21,28]\n",
    "    for i in range(len(row)):\n",
    "        s = (s - row[i])\n",
    "        if i in refil:\n",
    "            if s < og_stock:\n",
    "                order = ((og_stock - s) + randint(0, (og_stock - s)))\n",
    "                stk.append(order)\n",
    "                s += order\n",
    "            else:\n",
    "                stk.append(0)\n",
    "        else:\n",
    "            stk.append(0)\n",
    "    return stk"
   ]
  },
  {
   "cell_type": "code",
   "execution_count": 183,
   "metadata": {},
   "outputs": [
    {
     "name": "stdout",
     "output_type": "stream",
     "text": [
      "11 [500, 51, 0, 0, 0, 0, 0, 0, 378, 0, 0, 0, 0, 0, 0, 169, 0, 0, 0, 0, 0, 0, 267, 0, 0, 0, 0, 0, 0, 195, 0] 12\n"
     ]
    }
   ],
   "source": [
    "stock_daily = stock(500, data[rn])\n",
    "print(rn, stock_daily, len(data))\n",
    "open_file(stock_daily)\n",
    "rn += 1"
   ]
  },
  {
   "cell_type": "code",
   "execution_count": 125,
   "metadata": {},
   "outputs": [
    {
     "name": "stdout",
     "output_type": "stream",
     "text": [
      "[[0, 1, 1, 1, 1, 1, 2, 0, 1, 1, 1, 0, 1, 1, 1, 2, 1, 1, 2, 0, 2, 0, 0, 2, 0, 0, 0, 2, 1, 1], [2, 2, 1, 4, 3, 2, 2, 2, 1, 1, 2, 2, 2, 1, 1, 2, 1, 1, 2, 2, 1, 1, 2, 2, 1, 1, 2, 2, 4, 1], [0, 1, 0, 2, 2, 0, 1, 0, 1, 1, 0, 1, 0, 0, 0, 0, 1, 0, 0, 2, 0, 1, 0, 1, 0, 1, 0, 1, 0, 0], [17, 17, 12, 12, 40, 15, 16, 12, 18, 16, 14, 18, 14, 13, 14, 17, 16, 15, 14, 14, 13, 17, 18, 13, 16, 17, 13, 17, 13, 16], [1, 0, 1, 0, 1, 0, 1, 0, 1, 1, 1, 0, 2, 3, 1, 2, 0, 1, 0, 1, 1, 0, 1, 1, 0, 0, 1, 3, 2, 1], [3, 3, 5, 2, 2, 1, 5, 2, 2, 1, 3, 1, 1, 3, 1, 2, 2, 3, 1, 1, 2, 1, 3, 2, 1, 3, 1, 2, 1, 1], [1, 3, 1, 2, 1, 3, 2, 1, 1, 1, 1, 1, 3, 2, 4, 2, 3, 3, 2, 2, 1, 1, 2, 1, 3, 1, 2, 1, 2, 2], [2, 0, 0, 2, 0, 1, 2, 2, 1, 0, 0, 2, 2, 1, 0, 0, 2, 2, 1, 1, 0, 3, 0, 1, 1, 0, 0, 0, 0, 0], [3, 6, 2, 6, 2, 4, 3, 7, 4, 7, 6, 5, 2, 7, 2, 6, 7, 3, 5, 3, 2, 3, 6, 7, 4, 3, 3, 4, 4, 2], [0, 1, 1, 0, 0, 0, 1, 1, 0, 1, 1, 2, 1, 0, 0, 1, 0, 2, 0, 0, 1, 0, 0, 0, 1, 0, 0, 2, 1, 0], [12, 12, 18, 19, 32, 9, 16, 20, 8, 13, 15, 21, 23, 11, 18, 14, 12, 10, 21, 19, 8, 15, 33, 9, 23, 28, 18, 22, 23, 20], [41, 36, 34, 31, 35, 43, 41, 34, 37, 31, 34, 42, 39, 33, 39, 32, 39, 39, 37, 37, 32, 30, 35, 36, 34, 39, 40, 41, 33, 35]]\n"
     ]
    }
   ],
   "source": [
    "print(data)"
   ]
  }
 ],
 "metadata": {
  "interpreter": {
   "hash": "4f946df053fbf2b937619d3c5458e7af74262f9a954d8797ba0b27400bcafe06"
  },
  "kernelspec": {
   "display_name": "Python 3.8.6 64-bit",
   "language": "python",
   "name": "python3"
  },
  "language_info": {
   "codemirror_mode": {
    "name": "ipython",
    "version": 3
   },
   "file_extension": ".py",
   "mimetype": "text/x-python",
   "name": "python",
   "nbconvert_exporter": "python",
   "pygments_lexer": "ipython3",
   "version": "3.8.6"
  },
  "orig_nbformat": 4
 },
 "nbformat": 4,
 "nbformat_minor": 2
}
