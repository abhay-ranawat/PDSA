{
 "cells": [
  {
   "cell_type": "code",
   "execution_count": 14,
   "metadata": {},
   "outputs": [
    {
     "name": "stdout",
     "output_type": "stream",
     "text": [
      "[0, 0, 0, 0, 0]\n",
      "[0, 0, 0, 1, 0]\n",
      "mm 3 2 3 2\n",
      "a 2 1 1\n",
      "b 1 2\n",
      "3\n",
      "a 1 2 2\n",
      "b 1 10\n",
      "13\n",
      "a 0 10 10\n",
      "b 1 4\n",
      "17\n",
      "4\n"
     ]
    }
   ],
   "source": [
    "def solve(l1, l2):\n",
    "    n = len(l1)\n",
    "    if n == 0:\n",
    "        return(0)\n",
    "    ans = [0 for i in range(n + 1)]\n",
    "    print(ans)\n",
    "    ans[n - 1] = max(l1[n - 1], l2[n - 1]) - min(l1[n - 1], l2[n - 1])\n",
    "    print(ans)\n",
    "    print('mm', l1[n - 1], l2[n - 1], l1[n - 1], l2[n - 1])\n",
    "    for i in range(n - 2, -1, -1):\n",
    "        print('a', i, ans[i + 1], ans[i + 1])\n",
    "        vert = max(l1[i], l2[i]) - min(l1[i], l2[i])\n",
    "        horz = (max(l1[i], l1[i + 1]) - min(l1[i], l1[i + 1])\n",
    "                + max(l2[i], l2[i + 1]) - min(l2[i], l2[i + 1]))\n",
    "        print('b', vert, horz)\n",
    "        ans[i] = max(vert, horz)\n",
    "        print(sum(ans))\n",
    "    return(ans[0])\n",
    "\n",
    "\n",
    "n = 4\n",
    "l1 = [8,6,2,3]\n",
    "l2 = [9,7,1,2]\n",
    "print(solve(l1, l2))\n"
   ]
  }
 ],
 "metadata": {
  "interpreter": {
   "hash": "4f946df053fbf2b937619d3c5458e7af74262f9a954d8797ba0b27400bcafe06"
  },
  "kernelspec": {
   "display_name": "Python 3.8.6 64-bit",
   "language": "python",
   "name": "python3"
  },
  "language_info": {
   "codemirror_mode": {
    "name": "ipython",
    "version": 3
   },
   "file_extension": ".py",
   "mimetype": "text/x-python",
   "name": "python",
   "nbconvert_exporter": "python",
   "pygments_lexer": "ipython3",
   "version": "3.8.6"
  },
  "orig_nbformat": 4
 },
 "nbformat": 4,
 "nbformat_minor": 2
}
